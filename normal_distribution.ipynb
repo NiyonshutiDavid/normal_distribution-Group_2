{
  "nbformat": 4,
  "nbformat_minor": 0,
  "metadata": {
    "colab": {
      "provenance": [],
      "authorship_tag": "ABX9TyOTM8pzBRAE/Akpp1D6Btoj",
      "include_colab_link": true
    },
    "kernelspec": {
      "name": "python3",
      "display_name": "Python 3"
    },
    "language_info": {
      "name": "python"
    }
  },
  "cells": [
    {
      "cell_type": "markdown",
      "metadata": {
        "id": "view-in-github",
        "colab_type": "text"
      },
      "source": [
        "<a href=\"https://colab.research.google.com/github/NiyonshutiDavid/normal_distribution-Group_2/blob/main/normal_distribution.ipynb\" target=\"_parent\"><img src=\"https://colab.research.google.com/assets/colab-badge.svg\" alt=\"Open In Colab\"/></a>"
      ]
    },
    {
      "cell_type": "markdown",
      "source": [
        "## Part 1: Normal Distribution - Definition, Implementation, and Analysis"
      ],
      "metadata": {
        "id": "lRh6AwXJpHnY"
      }
    },
    {
      "cell_type": "markdown",
      "source": [
        "## Part 2: Bayesian Probability - Implementation, and inference"
      ],
      "metadata": {
        "id": "Cg72bBgiL7Er"
      }
    },
    {
      "cell_type": "markdown",
      "source": [
        "## Part 3: Gradient Descent in Code - Simple Model Plotting"
      ],
      "metadata": {
        "id": "gYjzGKWaQUSm"
      }
    }
  ]
}