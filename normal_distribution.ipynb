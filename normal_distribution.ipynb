{
  "cells": [
    {
      "cell_type": "markdown",
      "metadata": {
        "colab_type": "text",
        "id": "view-in-github"
      },
      "source": [
        "<a href=\"https://colab.research.google.com/github/NiyonshutiDavid/normal_distribution-Group_2/blob/abiodun/normal_distribution.ipynb\" target=\"_parent\"><img src=\"https://colab.research.google.com/assets/colab-badge.svg\" alt=\"Open In Colab\"/></a>"
      ]
    },
    {
      "cell_type": "markdown",
      "metadata": {
        "id": "lRh6AwXJpHnY"
      },
      "source": [
        "## Part 1: Normal Distribution - Definition, Implementation, and Analysis"
      ]
    },
    {
      "cell_type": "markdown",
      "metadata": {
        "id": "MUq4T4imMhQE"
      },
      "source": [
        "### 1. Definition of Normal Distribution\n",
        "The Normal Distribution, also known as the Gaussian Distribution, is a continuous probability distribution that is symmetric around the mean. It follows a bell-shaped curve, where:<br/>\n",
        "•\tThe mean (μ) is the center of the distribution.<br/>\n",
        "•\tThe standard deviation (σ) controls the spread of the data.<br/>\n",
        "•\tMost values are close to the mean, with fewer values appearing as they move further away.<br/>\n",
        "<br/>\n",
        "The probability density function (PDF) of a normal distribution is given by:<br/>\n",
        "[Please attach image.png]<br/>\n",
        "where:<br/>\n",
        "•\tx = value of the variable<br/>\n",
        "•\tμ = mean of the distribution<br/>\n",
        "•\tσ = standard deviation<br/>\n",
        "•\te = Euler's number (≈2.71)<br/>\n",
        "[Please attach image-2.png]<br/>\n",
        "[Please attach image-3.png]\n",
        "\n",
        "### 2. Real-World Example: Student performance in Mid term exam\n",
        "Scenario: Understanding Student Performance in Mid-Term Exams\n",
        "At a university, the Mid-Term Exam scores of a group of students were recorded. The goal is to analyze the distribution of these scores to determine how students performed overall and whether their scores follow a normal distribution.The data is as follows:<br/>"
      ]
    },
    {
      "cell_type": "code",
      "execution_count": null,
      "metadata": {
        "id": "Idzx7LS7MhQF",
        "outputId": "0c8ce08f-4f12-4acd-da76-6bb6c88645bd"
      },
      "outputs": [],
      "source": [
        "import pandas as pd\n",
        "\n",
        "# Load CSV file\n",
        "df_csv = pd.read_csv(\"grades.csv\")\n",
        "\n",
        "# Display the first few rows\n",
        "df_csv.head()\n"
      ]
    },
    {
      "cell_type": "markdown",
      "metadata": {
        "id": "a5V8jDCGMhQI"
      },
      "source": [
        "Interpretation of data using numpy and visualize it using matplotlib"
      ]
    },
    {
      "cell_type": "code",
      "execution_count": null,
      "metadata": {
        "id": "Kozwp1TSMhQJ",
        "outputId": "d144c7ca-a79e-4994-b783-da5996bd22a2"
      },
      "outputs": [],
      "source": [
        "import numpy as np\n",
        "import pandas as pd\n",
        "import matplotlib.pyplot as plt\n",
        "\n",
        "# Load the CSV file containing the grades\n",
        "df = pd.read_csv(\"grades.csv\")\n",
        "\n",
        "column_name = \"Mid Term\"  # Take the column of Mid term because that's what we are targeting\n",
        "\n",
        "# Convert to numeric, coercing errors to NaN, and drop rows with NaN values\n",
        "data = pd.to_numeric(df[column_name], errors='coerce').dropna()\n",
        "\n",
        "# Compute Mean and Standard Deviation\n",
        "mean = np.mean(data)\n",
        "std_dev = np.std(data)\n",
        "\n",
        "print(f\"Mean: {mean:.2f}, Standard Deviation: {std_dev:.2f}\")\n",
        "\n",
        "# Generate values for normal distribution curve\n",
        "x = np.linspace(min(data), max(data), 100)\n",
        "y = (1 / (std_dev * np.sqrt(2 * np.pi))) * np.exp(-0.5 * ((x - mean) / std_dev) ** 2)\n",
        "\n",
        "# Plot only the normal distribution\n",
        "plt.figure(figsize=(8,5))\n",
        "plt.plot(x, y, color='red', label=\"Normal Distribution\")\n",
        "\n",
        "# Labels and legend\n",
        "plt.title(f\"Normal Distribution of {column_name} Scores\")\n",
        "plt.xlabel(column_name)\n",
        "plt.ylabel(\"Density\")\n",
        "plt.legend()\n",
        "plt.grid()\n",
        "\n",
        "# Show the plot\n",
        "plt.show()\n"
      ]
    },
    {
      "cell_type": "markdown",
      "metadata": {
        "id": "1JL93OupMhQJ"
      },
      "source": [
        "### 3. Comparison with other distribution how they differ"
      ]
    },
    {
      "cell_type": "code",
      "execution_count": null,
      "metadata": {
        "id": "FTY0hQn5MhQJ",
        "outputId": "a973aecf-7e57-4382-b54b-bffb41825f26"
      },
      "outputs": [],
      "source": [
        "import pandas as pd\n",
        "\n",
        "# Create the data for the table\n",
        "data = {\n",
        "    \"Distribution\": [\"Normal\", \"Binomial\", \"Poisson\", \"Exponential\"],\n",
        "    \"Definition\": [\n",
        "        \"Continuous, symmetric around the mean\",\n",
        "        \"Discrete, counts number of successes in trials\",\n",
        "        \"Discrete, models rare events over time\",\n",
        "        \"Continuous, models waiting times between events\"\n",
        "    ],\n",
        "    \"Example\": [\n",
        "        \"Exam scores, IQ scores\",\n",
        "        \"Coin flips, pass/fail tests\",\n",
        "        \"Number of calls received in an hour\",\n",
        "        \"Time until next customer arrives\"\n",
        "    ]\n",
        "}\n",
        "\n",
        "# Create the DataFrame\n",
        "df = pd.DataFrame(data)\n",
        "\n",
        "# Display the table\n",
        "df\n"
      ]
    },
    {
      "cell_type": "markdown",
      "metadata": {
        "id": "Z51pnONAMhQK"
      },
      "source": [
        "### 4. Can This Example Be Used in Another Distribution?\n",
        "•\tBinomial Distribution? No, because exam scores are continuous, while binomial distribution is for discrete success/failure outcomes.<br/> However, if the question was about passing or failing (e.g., pass = 1, fail = 0), then it could be modeled with a binomial distribution.<br/>\n",
        "•\tPoisson Distribution? No, because Poisson is used for counting rare events over time, whereas exam scores are continuous.<br/>\n",
        "•\tExponential Distribution? No, unless we were modeling the time students take to finish the exam, which might follow an exponential decay pattern.<br/>"
      ]
    },
    {
      "cell_type": "markdown",
      "metadata": {
        "id": "Cg72bBgiL7Er"
      },
      "source": [
        "## Part 2: Bayesian Probability - Implementation, and inference"
      ]
    },
    {
      "cell_type": "markdown",
      "metadata": {
        "id": "_hsl_4xJ7gaw"
      },
      "source": [
        "\n",
        "\n",
        "#### Problem Statement\n",
        "You are planning a family picnic, but you're concerned about the weather. You want to determine the probability that it will rain on the day of the picnic based on the weather forecast and historical data.\n",
        "![Screenshot 2025-02-23 012130.png](data:image/png;base64,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)\n",
        "---\n",
        "\n",
        "\n",
        "---\n",
        "\n",
        "### Step 2: Assign Probabilities Based on Historical Data\n",
        "\n",
        "1. **Prior Probability (\\( P(A) \\))**:\n",
        "   Historically, it rains on 20% of days in your region. Thus:\n",
        "   \\[\n",
        "   P(A) = 0.2\n",
        "   \\]\n",
        "\n",
        "2. **Likelihood (\\( P(B|A) \\))**:\n",
        "   If it rains, the weather forecast correctly predicts rain 90% of the time. Thus:\n",
        "   \\[\n",
        "   P(B|A) = 0.9\n",
        "   \\]\n",
        "\n",
        "3. **Marginal Likelihood (\\( P(B) \\))**:\n",
        "   The weather forecast predicts rain regardless of whether it actually rains or not. To compute \\( P(B) \\), we use the law of total probability:\n",
        "   \\[\n",
        "   P(B) = P(B|A)P(A) + P(B|\\neg A)P(\\neg A)\n",
        "   \\]\n",
        "   Here:\n",
        "   - \\( P(\\neg A) = 1 - P(A) = 0.8 \\) (probability that it does not rain).\n",
        "   - \\( P(B|\\neg A) = 0.1 \\) (the forecast incorrectly predicts rain when it does not rain).\n",
        "\n",
        "   Substituting values:\n",
        "   \\[\n",
        "   P(B) = (0.9)(0.2) + (0.1)(0.8) = 0.18 + 0.08 = 0.26\n",
        "   \\]\n",
        "\n",
        "4. **Posterior Probability (\\( P(A|B) \\))**:\n",
        "   Using Bayes' Theorem:\n",
        "   \\[\n",
        "   P(A|B) = \\frac{P(B|A)P(A)}{P(B)} = \\frac{(0.9)(0.2)}{0.26} = \\frac{0.18}{0.26} \\approx 0.6923\n",
        "   \\]\n",
        "\n",
        "Thus, the probability that it will rain given that the forecast predicts rain is approximately **69.23%**.\n",
        "\n"
      ]
    },
    {
      "cell_type": "markdown",
      "metadata": {
        "id": "MwrhJ5Iz-kmS"
      },
      "source": [
        "#Step 3: Implementation in Python\n"
      ]
    },
    {
      "cell_type": "code",
      "execution_count": null,
      "metadata": {
        "colab": {
          "base_uri": "https://localhost:8080/"
        },
        "id": "TLND8VQJ-tX6",
        "outputId": "ad0a63ec-e278-426d-87f4-b867617e8737"
      },
      "outputs": [],
      "source": [
        "def bayesian_update(prior, likelihood, marginal_likelihood):\n",
        "    \"\"\"\n",
        "    Perform a Bayesian update to compute the posterior probability.\n",
        "\n",
        "    Parameters:\n",
        "        prior (float): Prior probability.\n",
        "        likelihood (float): Likelihood of the evidence given the hypothesis.\n",
        "        marginal_likelihood (float): Total probability of the evidence.\n",
        "\n",
        "    Returns:\n",
        "        float: Posterior probability.\n",
        "    \"\"\"\n",
        "    posterior = (likelihood * prior) / marginal_likelihood\n",
        "    return posterior\n",
        "\n",
        "# Inputs\n",
        "prior_rain = 0.2  # P(A): Probability of rain\n",
        "likelihood_forecast_given_rain = 0.9  # P(B|A): Forecast predicts rain given it rains\n",
        "likelihood_forecast_given_no_rain = 0.1  # P(B|¬A): Forecast predicts rain given it doesn't rain\n",
        "\n",
        "# Compute marginal likelihood P(B)\n",
        "marginal_likelihood_forecast = (likelihood_forecast_given_rain * prior_rain) + \\\n",
        "                               (likelihood_forecast_given_no_rain * (1 - prior_rain))\n",
        "\n",
        "# Compute posterior P(A|B)\n",
        "posterior_rain_given_forecast = bayesian_update(prior_rain, likelihood_forecast_given_rain, marginal_likelihood_forecast)\n",
        "\n",
        "print(f\"Posterior Probability (P(Rain|Forecast Predicts Rain)): {posterior_rain_given_forecast:.4f}\")"
      ]
    },
    {
      "cell_type": "markdown",
      "metadata": {
        "id": "ysfGS3bEBR6U"
      },
      "source": [
        "\n",
        "\n",
        "### Step 4: Explanation of Results\n",
        "\n",
        "1. **Prior Probability (\\( P(A) = 0.2 \\))**:\n",
        "   Based on historical data, there is a 20% chance of rain on any given day.\n",
        "\n",
        "2. **Likelihood (\\( P(B|A) = 0.9 \\))**:\n",
        "   The weather forecast is highly accurate when it predicts rain, with a 90% success rate.\n",
        "\n",
        "3. **Marginal Likelihood (\\( P(B) = 0.26 \\))**:\n",
        "   This accounts for both true positives (forecast predicts rain and it rains) and false positives (forecast predicts rain but it does not rain).\n",
        "\n",
        "4. **Posterior Probability (\\( P(A|B) \\approx 0.6923 \\))**:\n",
        "   Given that the forecast predicts rain, the probability of rain increases significantly to approximately 69.23%.\n",
        "\n",
        "---\n",
        "\n",
        "### Step 5: Practical Significance\n",
        "\n",
        "- **Decision-Making**: With a 69.23% chance of rain, you might decide to postpone the picnic unless you have access to indoor alternatives.\n",
        "- **Uncertainty Quantification**: Bayesian inference allows you to quantify uncertainty and make informed decisions under probabilistic conditions.\n",
        "- **Iterative Updates**: If additional information becomes available (e.g., updated forecasts), you can update the posterior probability using new data.\n",
        "\n",
        "---\n",
        "\n",
        "### Visualization of Probabilities\n",
        "\n",
        "To visualize the probabilities, you can plot the prior, likelihood, and posterior distributions.\n",
        "\n"
      ]
    },
    {
      "cell_type": "markdown",
      "metadata": {
        "id": "9UlDN4YPBNV6"
      },
      "source": []
    },
    {
      "cell_type": "code",
      "execution_count": null,
      "metadata": {
        "colab": {
          "base_uri": "https://localhost:8080/",
          "height": 547
        },
        "id": "NOGKeCQDBrOe",
        "outputId": "dcf8cdd7-3700-4026-b45d-1f39be997772"
      },
      "outputs": [],
      "source": [
        "import matplotlib.pyplot as plt\n",
        "\n",
        "# Data for visualization\n",
        "labels = ['Prior', 'Likelihood', 'Posterior']\n",
        "values = [prior_rain, likelihood_forecast_given_rain, posterior_rain_given_forecast]\n",
        "\n",
        "# Plotting\n",
        "plt.figure(figsize=(8, 6))\n",
        "plt.bar(labels, values, color=['blue', 'green', 'red'])\n",
        "plt.title('Bayesian Probability for Rain Prediction', fontsize=16)\n",
        "plt.ylabel('Probability', fontsize=14)\n",
        "plt.ylim(0, 1)\n",
        "plt.grid(axis='y', linestyle='--', alpha=0.7)\n",
        "plt.show()"
      ]
    },
    {
      "cell_type": "markdown",
      "metadata": {
        "id": "_VDdC4orMhQP"
      },
      "source": [
        "Real-World Example 2: Bayesian inference for penalty goal prediction with visualization"
      ]
    },
    {
      "cell_type": "code",
      "execution_count": null,
      "metadata": {
        "id": "B1s6PUEjMhQQ",
        "outputId": "8fad8850-a7ef-40f7-e08d-8a92a98147b4"
      },
      "outputs": [],
      "source": [
        "import numpy as np\n",
        "import matplotlib.pyplot as plt\n",
        "\n",
        "def bayes_update(prior, likelihood, prob_B):\n",
        "    \"\"\"Compute the posterior probability using Bayes' Theorem.\"\"\"\n",
        "    return (likelihood * prior) / prob_B\n",
        "\n",
        "# Given probabilities\n",
        "P_A = 0.6  # Prior: belief that the player is skilled\n",
        "P_B_given_A = 0.9  # Likelihood: skilled player scores\n",
        "P_B_given_not_A = 0.4  # Unskilled player scores\n",
        "P_not_A = 1 - P_A  # Complement of prior\n",
        "\n",
        "# Total probability of scoring\n",
        "P_B = (P_B_given_A * P_A) + (P_B_given_not_A * P_not_A)\n",
        "\n",
        "# Compute posterior\n",
        "P_A_given_B = bayes_update(P_A, P_B_given_A, P_B)\n",
        "\n",
        "# Visualization\n",
        "labels = ['Prior: Skilled', 'Posterior: Skilled']\n",
        "values = [P_A, P_A_given_B]\n",
        "plt.bar(labels, values, color=['blue', 'green'])\n",
        "plt.ylim(0, 1)\n",
        "plt.ylabel('Probability')\n",
        "plt.title('Bayesian Update: Belief in Player Skill After Scoring')\n",
        "plt.show()\n",
        "\n",
        "# Print results\n",
        "print(f\"Prior belief that the player is skilled: {P_A:.2f}\")\n",
        "print(f\"Updated belief after scoring (Posterior): {P_A_given_B:.2f}\")\n"
      ]
    },
    {
      "cell_type": "markdown",
      "metadata": {
        "id": "gYjzGKWaQUSm"
      },
      "source": [
        "## Part 3: Gradient Descent in Code - Simple Model Plotting"
      ]
    },
    {
      "cell_type": "markdown",
      "metadata": {
        "id": "arqZmCiP8eiI"
      },
      "source": [
        "In  this section, we'll implement gradient descent using SciPy to fit a simple linear regression model. We'll visualize how the model's parameters change during the optimization process.\n",
        "## Importing libraries"
      ]
    },
    {
      "cell_type": "code",
      "execution_count": null,
      "metadata": {
        "id": "4fFtzihM9-Mg"
      },
      "outputs": [],
      "source": [
        "import numpy as np\n",
        "import matplotlib.pyplot as plt\n",
        "from scipy.optimize import minimize"
      ]
    },
    {
      "cell_type": "markdown",
      "metadata": {
        "id": "dD6XnvX49_5P"
      },
      "source": [
        "`numpy`: For numerical operations, especially with arrays.\n",
        "\n",
        "`matplotlib.pyplot`: For creating visualizations.\n",
        "\n",
        "`scipy.optimize.minimize`: The function we'll use to perform the optimization.\n",
        "\n",
        "## Data Initialization & Function Definition"
      ]
    },
    {
      "cell_type": "markdown",
      "metadata": {
        "id": "NaPAHEKS-OK4"
      },
      "source": [
        "Using the participation assignment a [simple model](https://alueducation.instructure.com/courses/1791/assignments/26395) as reference:\n",
        "\n",
        "### Data initialization"
      ]
    },
    {
      "cell_type": "code",
      "execution_count": null,
      "metadata": {
        "id": "XABzsA3--Lro"
      },
      "outputs": [],
      "source": [
        "# Data\n",
        "X = np.array([1, 3])\n",
        "Y = np.array([3, 6])\n",
        "\n",
        "# Initial guess for m and b\n",
        "initial_params = np.array([-1, 1])\n",
        "\n",
        "# Lists to store m and b values for visualization\n",
        "m_history = [initial_params[0]]\n",
        "b_history = [initial_params[1]]\n",
        "\n",
        "# Objective function (Mean Squared Error)\n",
        "def mse(params, X, Y):\n",
        "    m, b = params\n",
        "    y_pred = m * X + b\n",
        "    return np.mean((Y - y_pred)**2)\n",
        "\n",
        "# Callback function to store intermediate values and print progress\n",
        "def callback(params):\n",
        "    m, b = params\n",
        "    m_history.append(m)\n",
        "    b_history.append(b)\n",
        "    error = mse(params, X, Y)  # Calculate MSE\n",
        "    print(f\"Iteration {len(m_history) - 1}:\")\n",
        "    print(f\"Current m: {m} \\t Current b: {b} \\t MSE: {error}\")\n",
        "    print()"
      ]
    },
    {
      "cell_type": "markdown",
      "metadata": {
        "id": "uKwYrXZW_edn"
      },
      "source": [
        "* `X` and `Y`: We define our input (`X`) and target (`Y`) data points as NumPy arrays.\n",
        "\n",
        "* `initial_params`: Sets the initial guesses for `m` and `b`.\n",
        "\n",
        "* `m_history` and `b_history`: Lists to store the parameter values at each iteration, initialized with the initial guesses.\n",
        "\n",
        "* `mse(params, X, Y)`: This function calculates the Mean Squared Error (MSE), which is the objective function we want to minimize.\n",
        "\n",
        "* `callback(params)`: This function is called by minimize at each iteration.\n",
        "\n",
        "## Optimization"
      ]
    },
    {
      "cell_type": "markdown",
      "metadata": {
        "id": "0BVtwnqyFqm_"
      },
      "source": [
        "* `minimize(mse, initial_params, args=(X, Y), callback=callback, tol=1e-6)`: Calls the minimize function to perform the optimization.\n",
        "\n",
        "* `tol=1e-6`: Sets the tolerance for convergence. The optimization stops when the change in parameters is less than this value."
      ]
    },
    {
      "cell_type": "code",
      "execution_count": null,
      "metadata": {
        "colab": {
          "base_uri": "https://localhost:8080/"
        },
        "id": "TNZZoZ3YBLWw",
        "outputId": "b9f196eb-2a57-4649-888b-6bb0b3c7062a"
      },
      "outputs": [],
      "source": [
        "# Optimization using minimize with callback\n",
        "result = minimize(mse, initial_params, args=(X, Y), callback=callback, tol=1e-6)"
      ]
    },
    {
      "cell_type": "markdown",
      "metadata": {
        "id": "UTgViNusBxuG"
      },
      "source": [
        "### Interpretation\n",
        "Interpretation:\n",
        "\n",
        "1. Iteration 1: The initial values of m and b are far from optimal, resulting in a high MSE of 12.99. This indicates a poor fit to the data.\n",
        "\n",
        "2. Iteration 2: The algorithm makes a significant adjustment to m and b, leading to a dramatic reduction in MSE (0.017). This shows that the algorithm is moving in the right direction.\n",
        "\n",
        "3. Iteration 3: The algorithm further refines m and b, resulting in another decrease in MSE (0.0073). The fit is improving.\n",
        "\n",
        "4. Iteration 4: The values of m and b are now very close to the optimal values (approximately 1.5). The MSE is extremely small (8.87e-11), indicating a near-perfect fit.\n",
        "\n",
        "\n",
        "5. Iteration 5: The algorithm has converged to the optimal solution. The MSE is exceptionally small (3.14e-16), essentially zero. The values of m and b are extremely precise.\n",
        "\n",
        "\n",
        "##  Extracting and Printing Results"
      ]
    },
    {
      "cell_type": "code",
      "execution_count": null,
      "metadata": {
        "colab": {
          "base_uri": "https://localhost:8080/"
        },
        "id": "m_LTlLmZCPou",
        "outputId": "4900866d-8de9-47a0-bff4-72e36be6b9a4"
      },
      "outputs": [],
      "source": [
        "# Extract optimized parameters\n",
        "optimized_m, optimized_b = result.x\n",
        "\n",
        "# Print results\n",
        "print(\"Optimized m\\t\", optimized_m)\n",
        "print(\"Optimized b\\t\", optimized_b)\n",
        "print(\"Final MSE\\t\", result.fun)\n",
        "\n",
        "# Predictions with optimized parameters\n",
        "print()\n",
        "predictions = optimized_m * X + optimized_b\n",
        "print(\"Predictions:\", predictions)"
      ]
    },
    {
      "cell_type": "markdown",
      "metadata": {
        "id": "dhhYtjeyCIDf"
      },
      "source": [
        "### Interpretation:\n",
        "\n",
        "**Optimized m: 1.499999985165983**\n",
        "\n",
        "This is the final optimized value for the slope of the line. It's extremely close to 1.5, which is the exact slope of the line that perfectly fits the points (1, 3) and (3, 6).\n",
        "\n",
        "**Optimized b: 1.5000000393944612**\n",
        "\n",
        "This is the final optimized value for the y-intercept of the line. It's also extremely close to 1.5, which is the exact y-intercept of the perfect-fit line.\n",
        "\n",
        "**Final MSE: 3.1465145053771267e-16**\n",
        "\n",
        "This is the final Mean Squared Error (MSE). It's an incredibly small number (essentially zero). This means the optimized line fits the data points almost perfectly.\n",
        "\n",
        "**Predictions: [3.00000002 5.99999999]**\n",
        "\n",
        "These are the predicted y-values for the input x-values (1 and 3) using the optimized m and b. They are extremely close to the actual y-values (3 and 6), which further confirms the excellent fit of the line.\n",
        "\n",
        "In summary\n",
        "\n",
        "The optimization process successfully found the line that perfectly fits the given data points. The extremely low MSE and the near-perfect predictions demonstrate the algorithm's effectiveness."
      ]
    },
    {
      "cell_type": "markdown",
      "metadata": {
        "id": "73WK7r260ix3"
      },
      "source": [
        "## Visualization"
      ]
    },
    {
      "cell_type": "code",
      "execution_count": null,
      "metadata": {
        "colab": {
          "base_uri": "https://localhost:8080/",
          "height": 507
        },
        "id": "m-CaK71i0odI",
        "outputId": "f254eaa7-6cf6-4159-fc2e-49d2fa2163b9"
      },
      "outputs": [],
      "source": [
        "# Visualization\n",
        "plt.figure(figsize=(12, 5))\n",
        "\n",
        "# Plot m vs. Iterations\n",
        "plt.subplot(1, 2, 1)\n",
        "plt.plot(m_history)\n",
        "plt.xlabel(\"Iterations\")\n",
        "plt.ylabel(\"m\")\n",
        "plt.title(\"m vs. Iterations (SciPy minimize)\")\n",
        "\n",
        "# Plot b vs. Iterations\n",
        "plt.subplot(1, 2, 2)\n",
        "plt.plot(b_history)\n",
        "plt.xlabel(\"Iterations\")\n",
        "plt.ylabel(\"b\")\n",
        "plt.title(\"b vs. Iterations (SciPy minimize)\")\n",
        "\n",
        "plt.tight_layout()\n",
        "plt.show()"
      ]
    },
    {
      "cell_type": "markdown",
      "metadata": {
        "id": "rbJmOK9Q1SwU"
      },
      "source": [
        "The plots visualize how the slope (`m`) and y-intercept (`b`) parameters of a linear model change during SciPy's minimize optimization process.\n",
        "\n",
        "**`m vs. Iterations`**\n",
        "\n",
        "m starts at -1 and rapidly increases, converging to approximately 1.5. This shows the algorithm quickly finding the correct positive slope.\n",
        "\n",
        "**`b vs. Iterations`**\n",
        "b starts at 1, rises sharply, and then settles around 1.5. This indicates the algorithm adjusting the y-intercept for a better fit.\n",
        "\n",
        "The plots show the optimization algorithm efficiently converging towards the optimal m and b values, resulting in a linear model that accurately fits the data."
      ]
    },
    {
      "cell_type": "markdown",
      "metadata": {
        "id": "gaXCGlTWMhQU"
      },
      "source": [
        "# Second Workaround for Part 3 (tending more towards the manual computation)"
      ]
    },
    {
      "cell_type": "markdown",
      "metadata": {
        "id": "naK0j7kkMhQU"
      },
      "source": [
        "##  Import Required Libraries\n",
        "* **numpy:** Used for numerical operations.\n",
        "* **matplotlib.pyplot:** Used for visualization.\n",
        "* **scipy.optimize.approx_fprime:** Computes gradients numerically."
      ]
    },
    {
      "cell_type": "code",
      "execution_count": null,
      "metadata": {},
      "outputs": [],
      "source": [
        "import numpy as np\n",
        "import matplotlib.pyplot as plt\n",
        "from scipy.optimize import approx_fprime"
      ]
    },
    {
      "cell_type": "markdown",
      "metadata": {
        "id": "w5jGlzCKMhQV"
      },
      "source": [
        "## Initialize Parameters & Dataset\n",
        "* Initializes parameters (m,b).\n",
        "* Sets the learning rate, maximum iterations, and convergence tolerance.\n",
        "* Defines our sample dataset with two points: (1, 3) and (3, 6)"
      ]
    },
    {
      "cell_type": "code",
      "execution_count": null,
      "metadata": {},
      "outputs": [],
      "source": [
        "# Initial Conditions\n",
        "theta = np.array([-1.0, 1.0])  # [m, b]\n",
        "alpha = 0.1  # Learning rate\n",
        "num_iterations = 10  # Maximum iterations\n",
        "tolerance = 0.0001  # Convergence tolerance\n",
        "\n",
        "# Dataset\n",
        "X = np.array([1, 3])  # Feature values\n",
        "Y = np.array([3, 6])  # Target values"
      ]
    },
    {
      "cell_type": "markdown",
      "metadata": {
        "id": "zgRFQeKIMhQV"
      },
      "source": [
        "## Define the Cost Function\n",
        "* Computes the Mean Squared Error (MSE) cost function.\n",
        "* Measures how far predicted values (y_pred) are from actual value (Y)"
      ]
    },
    {
      "cell_type": "code",
      "execution_count": null,
      "metadata": {},
      "outputs": [],
      "source": [
        "def cost_function(theta, X, Y):\n",
        "    \"\"\"\n",
        "    Computes the Mean Squared Error (MSE) cost.\n",
        "\n",
        "    Args:\n",
        "        theta (np.array): Array containing [m, b].\n",
        "        X (np.array): Feature values.\n",
        "        Y (np.array): Target values.\n",
        "\n",
        "    Returns:\n",
        "        float: MSE cost.\n",
        "    \"\"\"\n",
        "    m, b = theta\n",
        "    y_pred = m * X + b\n",
        "    return np.mean((Y - y_pred) ** 2)"
      ]
    },
    {
      "cell_type": "markdown",
      "metadata": {
        "id": "YPA9MmHjMhQe"
      },
      "source": [
        "## Implement Gradient Descent\n",
        "* Iterates to update m and b using gradient descent.\n",
        "* Uses approx_fprime from SciPy to calculate gradients numerically.\n",
        "* Tracks cost and parameter values for visualization.\n",
        "* Stops if cost is below tolerance."
      ]
    },
    {
      "cell_type": "code",
      "execution_count": null,
      "metadata": {},
      "outputs": [],
      "source": [
        "def gradient_descent(theta, alpha, num_iterations, tolerance, X, Y):\n",
        "    \"\"\"\n",
        "    Performs gradient descent optimization using SciPy to compute gradients.\n",
        "\n",
        "    Args:\n",
        "        theta (np.array): Initial parameters [m, b].\n",
        "        alpha (float): Learning rate.\n",
        "        num_iterations (int): Maximum number of iterations.\n",
        "        tolerance (float): Stopping criterion based on cost change.\n",
        "        X (np.array): Feature values.\n",
        "        Y (np.array): Target values.\n",
        "\n",
        "    Returns:\n",
        "        theta (np.array): Optimized parameters [m, b].\n",
        "        cost_history (list): History of cost values.\n",
        "        m_values (list): History of m updates.\n",
        "        b_values (list): History of b updates.\n",
        "    \"\"\"\n",
        "    cost_history = []\n",
        "    m_values = []\n",
        "    b_values = []\n",
        "    prev_cost = float('inf')\n",
        "\n",
        "    # Small epsilon for approximating the gradient using SciPy\n",
        "    eps = np.sqrt(np.finfo(float).eps)\n",
        "\n",
        "    for iteration in range(1, num_iterations + 1):\n",
        "        # Compute current cost and record parameters\n",
        "        cost = cost_function(theta, X, Y)\n",
        "        cost_history.append(cost)\n",
        "        m_values.append(theta[0])\n",
        "        b_values.append(theta[1])\n",
        "\n",
        "        # Use SciPy's approx_fprime to compute the gradient\n",
        "        grad = approx_fprime(theta, lambda t: cost_function(t, X, Y), eps)\n",
        "\n",
        "        # Update parameters manually\n",
        "        theta = theta - alpha * grad\n",
        "\n",
        "        print(f\"Iteration {iteration}: m = {theta[0]:.5f}, b = {theta[1]:.5f}, Cost = {cost:.6f}\")\n",
        "\n",
        "        # Check for convergence\n",
        "        if abs(prev_cost - cost) < tolerance:\n",
        "            print(f\"Convergence reached at iteration {iteration}. Stopping optimization.\")\n",
        "            break\n",
        "        prev_cost = cost\n",
        "\n",
        "    return theta, cost_history, m_values, b_values\n",
        "\n",
        "# Run gradient descent optimization\n",
        "theta_opt, cost_history, m_values, b_values = gradient_descent(theta, alpha, num_iterations, tolerance, X, Y)\n",
        "final_m, final_b = theta_opt\n",
        "\n",
        "# Compute the final Mean Squared Error\n",
        "final_mse = cost_function(theta_opt, X, Y)\n",
        "print(\"\\nFinal M.S.E: {:.6f}\".format(final_mse))\n",
        "\n",
        "# Display final predictions for each data point\n",
        "print(\"\\nFinal Predictions:\")\n",
        "for x, y in zip(X, Y):\n",
        "    y_pred = final_m * x + final_b\n",
        "    print(f\"For x = {x}, Predicted y = {y_pred:.5f}, Actual y = {y}\")\n"
      ]
    },
    {
      "cell_type": "markdown",
      "metadata": {
        "id": "LidfhGxNMhQf"
      },
      "source": [
        "## Visualize Updates of m and b\n",
        "* Plots how m and b change over iterations using Matplotlib.\n",
        "* Uses markers ('o' for m, 's' for b) for clarity."
      ]
    },
    {
      "cell_type": "code",
      "execution_count": null,
      "metadata": {},
      "outputs": [],
      "source": [
        "def plot_parameter_updates(m_values, b_values):\n",
        "    \"\"\"\n",
        "    Plots the changes in m and b over iterations.\n",
        "\n",
        "    Args:\n",
        "        m_values (list): History of m values.\n",
        "        b_values (list): History of b values.\n",
        "    \"\"\"\n",
        "    iterations = range(1, len(m_values) + 1)\n",
        "    plt.figure(figsize=(10, 5))\n",
        "    plt.plot(iterations, m_values, label=\"m (slope)\")\n",
        "    plt.plot(iterations, b_values, label=\"b (intercept)\")\n",
        "    plt.xlabel(\"Iteration\")\n",
        "    plt.ylabel(\"Parameter Value\")\n",
        "    plt.title(\"Updates of m and b over Iterations\")\n",
        "    plt.legend()\n",
        "    plt.show()\n",
        "\n",
        "plot_parameter_updates(m_values, b_values)"
      ]
    },
    {
      "cell_type": "markdown",
      "metadata": {
        "id": "m9e9KkduMhQf"
      },
      "source": [
        "# Implementation Overview\n",
        "This implementation uses gradient descent to optimize the parameters (m, b) of a simple linear regression model. The objective is to minimize the Mean Squared Error (MSE) between the predicted and actual values.\n",
        "\n",
        "## Breakdown of the Process\n",
        "1. **Initialization:**\n",
        "* The initial slope (m) and intercept (b) are set to -1 and 1.\n",
        "* The learning rate (α) is 0.1, and the stopping condition is based on tolerance (0.0001) or 10 iterations.\n",
        "\n",
        "2. **Gradient Computation:**\n",
        "* The gradients (derivatives) of the cost function are approximated using scipy.optimize.approx_fprime.\n",
        "* The parameters (m, b) are updated iteratively using the formula: θ = θ − α × gradient (theta = theta - alpha * grad)\n",
        "\n",
        "3. **Iteration and Convergence:**\n",
        "* The algorithm runs for 10 iterations.\n",
        "* Each iteration updates m and b, reducing the cost function.\n",
        "* If the change in cost is less than the tolerance, the process stops.\n",
        "\n",
        "4. **Final Predictions:**\n",
        "* The optimized values of m and b are used to predict y-values for given x-values.\n",
        "* The predicted values are close to the actual values, indicating a good fit."
      ]
    },
    {
      "cell_type": "markdown",
      "metadata": {
        "id": "W18CWHLPMhQg"
      },
      "source": [
        "# Key Insights\n",
        "\n",
        "1. **Convergence Behaviour:**\n",
        "* The cost function starts high (36.5) and drops rapidly in the first few iterations.\n",
        "* The rate of decrease slows down, indicating convergence.\n",
        "\n",
        "2. **Accuracy of Predictions:**\n",
        "* The final MSE (0.0209) is low, meaning the model effectively fits the data.\n",
        "* Predicted calues (3.18885, 5.92178) are very close to actual values (3, 6).\n",
        "\n",
        "3. **Impact of Learning Rate:**\n",
        "* A learning rate of 0.1 allows stable and steady convergence.\n",
        "* A higher learning rate might overshoot, while a lower rate would slow convergence."
      ]
    }
  ],
  "metadata": {
    "colab": {
      "include_colab_link": true,
      "provenance": []
    },
    "kernelspec": {
      "display_name": "Python 3",
      "language": "python",
      "name": "python3"
    },
    "language_info": {
      "codemirror_mode": {
        "name": "ipython",
        "version": 3
      },
      "file_extension": ".py",
      "mimetype": "text/x-python",
      "name": "python",
      "nbconvert_exporter": "python",
      "pygments_lexer": "ipython3",
      "version": "3.9.4"
    }
  },
  "nbformat": 4,
  "nbformat_minor": 0
}
